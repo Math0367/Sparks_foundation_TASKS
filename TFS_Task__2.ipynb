{
  "nbformat": 4,
  "nbformat_minor": 0,
  "metadata": {
    "colab": {
      "name": "TFS_Task_#2.ipynb",
      "provenance": [],
      "collapsed_sections": []
    },
    "kernelspec": {
      "name": "python3",
      "display_name": "Python 3"
    }
  },
  "cells": [
    {
      "cell_type": "markdown",
      "metadata": {
        "id": "tLBD3JkNWhv7",
        "colab_type": "text"
      },
      "source": [
        "# Mithilesh Yadav"
      ]
    },
    {
      "cell_type": "markdown",
      "metadata": {
        "id": "YeH6CwWgEn99",
        "colab_type": "text"
      },
      "source": [
        "\n",
        "# Task # 2 - To Explore Supervised Machine Learning\n",
        "#### Problem Statement - To predict the percentage of marks that a student is expected to score based upon the number of hours they studied.\n",
        "\n",
        "#### What will be predicted score if a student study for 9.25 hrs in a day?"
      ]
    },
    {
      "cell_type": "markdown",
      "metadata": {
        "id": "BYsY65LxExby",
        "colab_type": "text"
      },
      "source": [
        "### Import all the important libaries."
      ]
    },
    {
      "cell_type": "code",
      "metadata": {
        "id": "7_lsOaCAFLVU",
        "colab_type": "code",
        "colab": {}
      },
      "source": [
        "import numpy as np\n",
        "import pandas as pd\n",
        "import matplotlib.pyplot as plt\n",
        "import seaborn as sns\n",
        "%matplotlib inline "
      ],
      "execution_count": 6,
      "outputs": []
    },
    {
      "cell_type": "markdown",
      "metadata": {
        "id": "vmt9xbCuFaXJ",
        "colab_type": "text"
      },
      "source": [
        "### Import our dataset from the URL.\n",
        "##### Note : As we know our dataset is in csv file format we have so we have to use .read_csv() to read the file."
      ]
    },
    {
      "cell_type": "code",
      "metadata": {
        "id": "IK9aXCG8G9BN",
        "colab_type": "code",
        "colab": {}
      },
      "source": [
        "score = pd.read_csv(\"http://bit.ly/w-data\")"
      ],
      "execution_count": 7,
      "outputs": []
    },
    {
      "cell_type": "markdown",
      "metadata": {
        "id": "La4GaXSeHVcp",
        "colab_type": "text"
      },
      "source": [
        "### Dataset Overview"
      ]
    },
    {
      "cell_type": "code",
      "metadata": {
        "id": "cLrpD72OHnE6",
        "colab_type": "code",
        "colab": {
          "base_uri": "https://localhost:8080/",
          "height": 194
        },
        "outputId": "fc248d79-840e-41ee-c1de-b3e3330ede15"
      },
      "source": [
        "score.head()  # Gives the first five rows of dataset."
      ],
      "execution_count": 8,
      "outputs": [
        {
          "output_type": "execute_result",
          "data": {
            "text/html": [
              "<div>\n",
              "<style scoped>\n",
              "    .dataframe tbody tr th:only-of-type {\n",
              "        vertical-align: middle;\n",
              "    }\n",
              "\n",
              "    .dataframe tbody tr th {\n",
              "        vertical-align: top;\n",
              "    }\n",
              "\n",
              "    .dataframe thead th {\n",
              "        text-align: right;\n",
              "    }\n",
              "</style>\n",
              "<table border=\"1\" class=\"dataframe\">\n",
              "  <thead>\n",
              "    <tr style=\"text-align: right;\">\n",
              "      <th></th>\n",
              "      <th>Hours</th>\n",
              "      <th>Scores</th>\n",
              "    </tr>\n",
              "  </thead>\n",
              "  <tbody>\n",
              "    <tr>\n",
              "      <th>0</th>\n",
              "      <td>2.5</td>\n",
              "      <td>21</td>\n",
              "    </tr>\n",
              "    <tr>\n",
              "      <th>1</th>\n",
              "      <td>5.1</td>\n",
              "      <td>47</td>\n",
              "    </tr>\n",
              "    <tr>\n",
              "      <th>2</th>\n",
              "      <td>3.2</td>\n",
              "      <td>27</td>\n",
              "    </tr>\n",
              "    <tr>\n",
              "      <th>3</th>\n",
              "      <td>8.5</td>\n",
              "      <td>75</td>\n",
              "    </tr>\n",
              "    <tr>\n",
              "      <th>4</th>\n",
              "      <td>3.5</td>\n",
              "      <td>30</td>\n",
              "    </tr>\n",
              "  </tbody>\n",
              "</table>\n",
              "</div>"
            ],
            "text/plain": [
              "   Hours  Scores\n",
              "0    2.5      21\n",
              "1    5.1      47\n",
              "2    3.2      27\n",
              "3    8.5      75\n",
              "4    3.5      30"
            ]
          },
          "metadata": {
            "tags": []
          },
          "execution_count": 8
        }
      ]
    },
    {
      "cell_type": "markdown",
      "metadata": {
        "id": "M29HnplJH61j",
        "colab_type": "text"
      },
      "source": [
        "### Data Preprocessing"
      ]
    },
    {
      "cell_type": "markdown",
      "metadata": {
        "id": "G1QQLvRmIQL1",
        "colab_type": "text"
      },
      "source": [
        "#### Check some import details about the dataset before moving ahead.\n",
        "### Like null values, datatypes of each columns, sahpe."
      ]
    },
    {
      "cell_type": "code",
      "metadata": {
        "id": "HrLK-XBUJEdV",
        "colab_type": "code",
        "colab": {
          "base_uri": "https://localhost:8080/",
          "height": 35
        },
        "outputId": "f35b1005-16a8-4df8-8593-cb4d33f4549f"
      },
      "source": [
        "score.columns"
      ],
      "execution_count": 10,
      "outputs": [
        {
          "output_type": "execute_result",
          "data": {
            "text/plain": [
              "Index(['Hours', 'Scores'], dtype='object')"
            ]
          },
          "metadata": {
            "tags": []
          },
          "execution_count": 10
        }
      ]
    },
    {
      "cell_type": "code",
      "metadata": {
        "id": "ncCATlVOJJjg",
        "colab_type": "code",
        "colab": {
          "base_uri": "https://localhost:8080/",
          "height": 177
        },
        "outputId": "c8ae52aa-f7e3-47c8-9015-c89ed1326d15"
      },
      "source": [
        "score.info(memory_usage=True)    # This function gives the summary of basic details of a dataset."
      ],
      "execution_count": 11,
      "outputs": [
        {
          "output_type": "stream",
          "text": [
            "<class 'pandas.core.frame.DataFrame'>\n",
            "RangeIndex: 25 entries, 0 to 24\n",
            "Data columns (total 2 columns):\n",
            " #   Column  Non-Null Count  Dtype  \n",
            "---  ------  --------------  -----  \n",
            " 0   Hours   25 non-null     float64\n",
            " 1   Scores  25 non-null     int64  \n",
            "dtypes: float64(1), int64(1)\n",
            "memory usage: 528.0 bytes\n"
          ],
          "name": "stdout"
        }
      ]
    },
    {
      "cell_type": "code",
      "metadata": {
        "id": "Pxsl0suMHtzu",
        "colab_type": "code",
        "colab": {
          "base_uri": "https://localhost:8080/",
          "height": 35
        },
        "outputId": "4efc4b22-8533-4916-f5c8-41626f6a9575"
      },
      "source": [
        "score.shape    # To Check the shape i.e numbers of rows and columns our dataset have."
      ],
      "execution_count": 12,
      "outputs": [
        {
          "output_type": "execute_result",
          "data": {
            "text/plain": [
              "(25, 2)"
            ]
          },
          "metadata": {
            "tags": []
          },
          "execution_count": 12
        }
      ]
    },
    {
      "cell_type": "code",
      "metadata": {
        "id": "qJB3GnenIPGI",
        "colab_type": "code",
        "colab": {
          "base_uri": "https://localhost:8080/",
          "height": 70
        },
        "outputId": "d29620cc-84b2-443b-ee36-1e7155a5de30"
      },
      "source": [
        "score.isnull().sum()   # To check how many null values or missing values each columns have."
      ],
      "execution_count": 13,
      "outputs": [
        {
          "output_type": "execute_result",
          "data": {
            "text/plain": [
              "Hours     0\n",
              "Scores    0\n",
              "dtype: int64"
            ]
          },
          "metadata": {
            "tags": []
          },
          "execution_count": 13
        }
      ]
    },
    {
      "cell_type": "code",
      "metadata": {
        "id": "B1nyV9_pJAZz",
        "colab_type": "code",
        "colab": {
          "base_uri": "https://localhost:8080/",
          "height": 282
        },
        "outputId": "3ad4df75-d3a9-4ebf-9ffd-973734b474cc"
      },
      "source": [
        "score.describe()"
      ],
      "execution_count": 14,
      "outputs": [
        {
          "output_type": "execute_result",
          "data": {
            "text/html": [
              "<div>\n",
              "<style scoped>\n",
              "    .dataframe tbody tr th:only-of-type {\n",
              "        vertical-align: middle;\n",
              "    }\n",
              "\n",
              "    .dataframe tbody tr th {\n",
              "        vertical-align: top;\n",
              "    }\n",
              "\n",
              "    .dataframe thead th {\n",
              "        text-align: right;\n",
              "    }\n",
              "</style>\n",
              "<table border=\"1\" class=\"dataframe\">\n",
              "  <thead>\n",
              "    <tr style=\"text-align: right;\">\n",
              "      <th></th>\n",
              "      <th>Hours</th>\n",
              "      <th>Scores</th>\n",
              "    </tr>\n",
              "  </thead>\n",
              "  <tbody>\n",
              "    <tr>\n",
              "      <th>count</th>\n",
              "      <td>25.000000</td>\n",
              "      <td>25.000000</td>\n",
              "    </tr>\n",
              "    <tr>\n",
              "      <th>mean</th>\n",
              "      <td>5.012000</td>\n",
              "      <td>51.480000</td>\n",
              "    </tr>\n",
              "    <tr>\n",
              "      <th>std</th>\n",
              "      <td>2.525094</td>\n",
              "      <td>25.286887</td>\n",
              "    </tr>\n",
              "    <tr>\n",
              "      <th>min</th>\n",
              "      <td>1.100000</td>\n",
              "      <td>17.000000</td>\n",
              "    </tr>\n",
              "    <tr>\n",
              "      <th>25%</th>\n",
              "      <td>2.700000</td>\n",
              "      <td>30.000000</td>\n",
              "    </tr>\n",
              "    <tr>\n",
              "      <th>50%</th>\n",
              "      <td>4.800000</td>\n",
              "      <td>47.000000</td>\n",
              "    </tr>\n",
              "    <tr>\n",
              "      <th>75%</th>\n",
              "      <td>7.400000</td>\n",
              "      <td>75.000000</td>\n",
              "    </tr>\n",
              "    <tr>\n",
              "      <th>max</th>\n",
              "      <td>9.200000</td>\n",
              "      <td>95.000000</td>\n",
              "    </tr>\n",
              "  </tbody>\n",
              "</table>\n",
              "</div>"
            ],
            "text/plain": [
              "           Hours     Scores\n",
              "count  25.000000  25.000000\n",
              "mean    5.012000  51.480000\n",
              "std     2.525094  25.286887\n",
              "min     1.100000  17.000000\n",
              "25%     2.700000  30.000000\n",
              "50%     4.800000  47.000000\n",
              "75%     7.400000  75.000000\n",
              "max     9.200000  95.000000"
            ]
          },
          "metadata": {
            "tags": []
          },
          "execution_count": 14
        }
      ]
    },
    {
      "cell_type": "markdown",
      "metadata": {
        "id": "hL6GASStJZjZ",
        "colab_type": "text"
      },
      "source": [
        "##### Since our dataset have no problem we can move to next step."
      ]
    },
    {
      "cell_type": "markdown",
      "metadata": {
        "id": "i0qypOFwJmf9",
        "colab_type": "text"
      },
      "source": [
        "### Visualizing the Data.\n",
        "##### Try to find relation between columns by ploting our data points on 2-D graph to eyeball our dataset and see if we can manually find any relationship between the data"
      ]
    },
    {
      "cell_type": "code",
      "metadata": {
        "id": "wRiqS1b2L2st",
        "colab_type": "code",
        "colab": {
          "base_uri": "https://localhost:8080/",
          "height": 301
        },
        "outputId": "e0f80f5e-8073-46db-e193-55eda3182aeb"
      },
      "source": [
        "plt.scatter(score.Hours, score.Scores, c=\"b\")\n",
        "plt.xlabel(\"Hours of Study\")\n",
        "plt.ylabel(\"Score obatin in percentage\")\n",
        "plt.title(\"Hours vs Score in precentage\")\n",
        "plt.show()"
      ],
      "execution_count": 17,
      "outputs": [
        {
          "output_type": "display_data",
          "data": {
            "image/png": "[encoded data removed]",
            "text/plain": [
              "<Figure size 432x288 with 1 Axes>"
            ]
          },
          "metadata": {
            "tags": [],
            "needs_background": "light"
          }
        }
      ]
    },
    {
      "cell_type": "markdown",
      "metadata": {
        "id": "RhBzs33wMMah",
        "colab_type": "text"
      },
      "source": [
        "#### Correlation In Variables"
      ]
    },
    {
      "cell_type": "code",
      "metadata": {
        "id": "llAjtBEGP01A",
        "colab_type": "code",
        "colab": {
          "base_uri": "https://localhost:8080/",
          "height": 290
        },
        "outputId": "899eaf9b-c10d-47a6-ee70-60a49e9ee6dc"
      },
      "source": [
        "\n",
        "sns.heatmap(score.corr())"
      ],
      "execution_count": 18,
      "outputs": [
        {
          "output_type": "execute_result",
          "data": {
            "text/plain": [
              "<matplotlib.axes._subplots.AxesSubplot at 0x7fa37f4c5f98>"
            ]
          },
          "metadata": {
            "tags": []
          },
          "execution_count": 18
        },
        {
          "output_type": "display_data",
          "data": {
            "image/png": "[encoded data removed]",
            "text/plain": [
              "<Figure size 432x288 with 2 Axes>"
            ]
          },
          "metadata": {
            "tags": [],
            "needs_background": "light"
          }
        }
      ]
    },
    {
      "cell_type": "markdown",
      "metadata": {
        "id": "Mleq86HIP5rV",
        "colab_type": "text"
      },
      "source": [
        "- By observing the correlation matrix we can say that hours and scores have positive correlation."
      ]
    },
    {
      "cell_type": "markdown",
      "metadata": {
        "id": "LbXnW7RJQa8O",
        "colab_type": "text"
      },
      "source": [
        "### Seperate the dataset into X (features) and y (response)."
      ]
    },
    {
      "cell_type": "code",
      "metadata": {
        "id": "yB49-KDLQ76A",
        "colab_type": "code",
        "colab": {}
      },
      "source": [
        "X = score.iloc[ : ,  : -1].values\n",
        "\n",
        "y = score.loc[ : , \"Scores\"].values"
      ],
      "execution_count": 21,
      "outputs": []
    },
    {
      "cell_type": "markdown",
      "metadata": {
        "id": "XMEOWP6MRG4B",
        "colab_type": "text"
      },
      "source": [
        "### Divide the dataset into train and test.\n"
      ]
    },
    {
      "cell_type": "code",
      "metadata": {
        "id": "zR852D14PfUD",
        "colab_type": "code",
        "colab": {}
      },
      "source": [
        "from sklearn.model_selection import train_test_split\n",
        "x_train, x_test, y_train, y_test = train_test_split(X, y, test_size=.2, random_state=0)"
      ],
      "execution_count": 24,
      "outputs": []
    },
    {
      "cell_type": "code",
      "metadata": {
        "id": "iL3x-q2DP5le",
        "colab_type": "code",
        "colab": {}
      },
      "source": [
        ""
      ],
      "execution_count": 25,
      "outputs": []
    },
    {
      "cell_type": "markdown",
      "metadata": {
        "id": "l9w0VLkbRUfP",
        "colab_type": "text"
      },
      "source": [
        "### Train the model."
      ]
    },
    {
      "cell_type": "code",
      "metadata": {
        "id": "mlL0dlzfRfnd",
        "colab_type": "code",
        "colab": {
          "base_uri": "https://localhost:8080/",
          "height": 35
        },
        "outputId": "47f7630e-f874-4c18-bae3-ffed864abc09"
      },
      "source": [
        "from sklearn.linear_model import LinearRegression\n",
        "reg = LinearRegression()\n",
        "reg.fit(x_train, y_train)"
      ],
      "execution_count": 27,
      "outputs": [
        {
          "output_type": "execute_result",
          "data": {
            "text/plain": [
              "LinearRegression(copy_X=True, fit_intercept=True, n_jobs=None, normalize=False)"
            ]
          },
          "metadata": {
            "tags": []
          },
          "execution_count": 27
        }
      ]
    },
    {
      "cell_type": "markdown",
      "metadata": {
        "id": "gftQkABiSJzA",
        "colab_type": "text"
      },
      "source": [
        "### Prediction 1"
      ]
    },
    {
      "cell_type": "code",
      "metadata": {
        "id": "h1_nsjQ2SNTz",
        "colab_type": "code",
        "colab": {}
      },
      "source": [
        "y_pred = reg.predict(x_test)"
      ],
      "execution_count": 29,
      "outputs": []
    },
    {
      "cell_type": "code",
      "metadata": {
        "id": "CIg9ryUaSRQL",
        "colab_type": "code",
        "colab": {
          "base_uri": "https://localhost:8080/",
          "height": 35
        },
        "outputId": "05fd52ee-8e53-44ee-e89e-21881d1e867e"
      },
      "source": [
        "y_pred"
      ],
      "execution_count": 30,
      "outputs": [
        {
          "output_type": "execute_result",
          "data": {
            "text/plain": [
              "array([16.88414476, 33.73226078, 75.357018  , 26.79480124, 60.49103328])"
            ]
          },
          "metadata": {
            "tags": []
          },
          "execution_count": 30
        }
      ]
    },
    {
      "cell_type": "markdown",
      "metadata": {
        "id": "Ary4v_YyXooB",
        "colab_type": "text"
      },
      "source": [
        "### Visualizing the prediction."
      ]
    },
    {
      "cell_type": "code",
      "metadata": {
        "id": "czWMvqdBXpjB",
        "colab_type": "code",
        "colab": {
          "base_uri": "https://localhost:8080/",
          "height": 301
        },
        "outputId": "ba1df5ef-a55f-40ff-a617-07e3d8009937"
      },
      "source": [
        "plt.scatter(x_test, y_test, color=\"red\")\n",
        "plt.plot(x_train, reg.predict(x_train), color=\"blue\")\n",
        "plt.title(\"Salary vs Experience\")\n",
        "plt.xlabel(\"Experience\")\n",
        "plt.ylabel(\"Salary\")\n",
        "plt.show()"
      ],
      "execution_count": 48,
      "outputs": [
        {
          "output_type": "display_data",
          "data": {
            "image/png": "[encoded data removed]",
            "text/plain": [
              "<Figure size 432x288 with 1 Axes>"
            ]
          },
          "metadata": {
            "tags": [],
            "needs_background": "light"
          }
        }
      ]
    },
    {
      "cell_type": "markdown",
      "metadata": {
        "id": "ocF-aJchSUvA",
        "colab_type": "text"
      },
      "source": [
        "##### Comparing Actual and Predicted Values."
      ]
    },
    {
      "cell_type": "code",
      "metadata": {
        "id": "db6f1SNoSz_X",
        "colab_type": "code",
        "colab": {}
      },
      "source": [
        "compare = pd.DataFrame(y_test, columns=[\"Actual\"])\n",
        "compare[\"Predictions\"] = y_pred\n",
        "compare[\"Difference\"] = abs(compare[\"Actual\"] - compare[\"Predictions\"])"
      ],
      "execution_count": 45,
      "outputs": []
    },
    {
      "cell_type": "code",
      "metadata": {
        "id": "byPgzg0pTbCl",
        "colab_type": "code",
        "colab": {
          "base_uri": "https://localhost:8080/",
          "height": 194
        },
        "outputId": "8c84e63d-7133-40b9-c8db-79e9e5e91e29"
      },
      "source": [
        "compare"
      ],
      "execution_count": 44,
      "outputs": [
        {
          "output_type": "execute_result",
          "data": {
            "text/html": [
              "<div>\n",
              "<style scoped>\n",
              "    .dataframe tbody tr th:only-of-type {\n",
              "        vertical-align: middle;\n",
              "    }\n",
              "\n",
              "    .dataframe tbody tr th {\n",
              "        vertical-align: top;\n",
              "    }\n",
              "\n",
              "    .dataframe thead th {\n",
              "        text-align: right;\n",
              "    }\n",
              "</style>\n",
              "<table border=\"1\" class=\"dataframe\">\n",
              "  <thead>\n",
              "    <tr style=\"text-align: right;\">\n",
              "      <th></th>\n",
              "      <th>Actual</th>\n",
              "      <th>Prediction</th>\n",
              "      <th>Difference</th>\n",
              "    </tr>\n",
              "  </thead>\n",
              "  <tbody>\n",
              "    <tr>\n",
              "      <th>0</th>\n",
              "      <td>20</td>\n",
              "      <td>16.884145</td>\n",
              "      <td>3.115855</td>\n",
              "    </tr>\n",
              "    <tr>\n",
              "      <th>1</th>\n",
              "      <td>27</td>\n",
              "      <td>33.732261</td>\n",
              "      <td>6.732261</td>\n",
              "    </tr>\n",
              "    <tr>\n",
              "      <th>2</th>\n",
              "      <td>69</td>\n",
              "      <td>75.357018</td>\n",
              "      <td>6.357018</td>\n",
              "    </tr>\n",
              "    <tr>\n",
              "      <th>3</th>\n",
              "      <td>30</td>\n",
              "      <td>26.794801</td>\n",
              "      <td>3.205199</td>\n",
              "    </tr>\n",
              "    <tr>\n",
              "      <th>4</th>\n",
              "      <td>62</td>\n",
              "      <td>60.491033</td>\n",
              "      <td>1.508967</td>\n",
              "    </tr>\n",
              "  </tbody>\n",
              "</table>\n",
              "</div>"
            ],
            "text/plain": [
              "   Actual  Prediction  Difference\n",
              "0      20   16.884145    3.115855\n",
              "1      27   33.732261    6.732261\n",
              "2      69   75.357018    6.357018\n",
              "3      30   26.794801    3.205199\n",
              "4      62   60.491033    1.508967"
            ]
          },
          "metadata": {
            "tags": []
          },
          "execution_count": 44
        }
      ]
    },
    {
      "cell_type": "markdown",
      "metadata": {
        "id": "lTtAcC7OdcXN",
        "colab_type": "text"
      },
      "source": [
        "### Predicting using random value.\n",
        "# RESULT."
      ]
    },
    {
      "cell_type": "code",
      "metadata": {
        "id": "hquVDzWQZ78q",
        "colab_type": "code",
        "colab": {
          "base_uri": "https://localhost:8080/",
          "height": 35
        },
        "outputId": "5299cdaa-d29a-46a3-979f-7caae7b9e1db"
      },
      "source": [
        "reg.predict([[9.25]])"
      ],
      "execution_count": 59,
      "outputs": [
        {
          "output_type": "execute_result",
          "data": {
            "text/plain": [
              "array([93.69173249])"
            ]
          },
          "metadata": {
            "tags": []
          },
          "execution_count": 59
        }
      ]
    },
    {
      "cell_type": "markdown",
      "metadata": {
        "id": "QT5EB5EdVR91",
        "colab_type": "text"
      },
      "source": [
        "#### Evaluation matrix.\n",
        "It is use to check how well the pediction is."
      ]
    },
    {
      "cell_type": "code",
      "metadata": {
        "id": "ekCOmNNAVn_I",
        "colab_type": "code",
        "colab": {
          "base_uri": "https://localhost:8080/",
          "height": 35
        },
        "outputId": "b68a774a-851f-400c-bbf1-ce3d96e9f0c1"
      },
      "source": [
        "from sklearn.metrics import mean_squared_error, mean_absolute_error\n",
        "print(\"Mean square error : \", mean_squared_error(y_test, y_pred))"
      ],
      "execution_count": 63,
      "outputs": [
        {
          "output_type": "stream",
          "text": [
            "Mean square error :  21.598769307217456\n"
          ],
          "name": "stdout"
        }
      ]
    },
    {
      "cell_type": "code",
      "metadata": {
        "id": "CmujZPRjcrCl",
        "colab_type": "code",
        "colab": {
          "base_uri": "https://localhost:8080/",
          "height": 35
        },
        "outputId": "321f3c1a-2bda-4078-ffd5-86f9f479b0c8"
      },
      "source": [
        "\n",
        "print('Mean Absolute Error:', metrics.mean_absolute_error(y_test, y_pred)) "
      ],
      "execution_count": 64,
      "outputs": [
        {
          "output_type": "stream",
          "text": [
            "Mean Absolute Error: 4.183859899002982\n"
          ],
          "name": "stdout"
        }
      ]
    },
    {
      "cell_type": "markdown",
      "metadata": {
        "id": "nBAwa88DdW8c",
        "colab_type": "text"
      },
      "source": [
        "# The End......"
      ]
    }
  ]
}